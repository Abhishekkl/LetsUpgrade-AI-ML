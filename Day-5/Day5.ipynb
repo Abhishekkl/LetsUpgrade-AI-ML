{
  "nbformat": 4,
  "nbformat_minor": 0,
  "metadata": {
    "colab": {
      "name": "Day5.ipynb",
      "provenance": [],
      "collapsed_sections": []
    },
    "kernelspec": {
      "name": "python3",
      "display_name": "Python 3"
    }
  },
  "cells": [
    {
      "cell_type": "markdown",
      "metadata": {
        "id": "KGjI2e-GCjzc",
        "colab_type": "text"
      },
      "source": [
        "**Question 1** :\n",
        "Write a Python program to find the first 20 non-even prime natural numbers."
      ]
    },
    {
      "cell_type": "code",
      "metadata": {
        "id": "8GT5DydECwwo",
        "colab_type": "code",
        "colab": {
          "base_uri": "https://localhost:8080/",
          "height": 136
        },
        "outputId": "7ca7b603-c601-4571-b74e-543587d1de65"
      },
      "source": [
        "myRange = range(2,21)\n",
        "  \n",
        "for i in myRange: \n",
        "    if i > 1 and i % 2 == 1: \n",
        "        for j in range(2, i//2 + 2): \n",
        "            if (i % j) == 0: \n",
        "                break\n",
        "            else: \n",
        "                if j == i//2 + 1: \n",
        "                    print(i) "
      ],
      "execution_count": 13,
      "outputs": [
        {
          "output_type": "stream",
          "text": [
            "3\n",
            "5\n",
            "7\n",
            "11\n",
            "13\n",
            "17\n",
            "19\n"
          ],
          "name": "stdout"
        }
      ]
    },
    {
      "cell_type": "markdown",
      "metadata": {
        "id": "lViK7kGsDnat",
        "colab_type": "text"
      },
      "source": [
        "**Question 2**:\n",
        "Write a Python program to implement 15 functions of string"
      ]
    },
    {
      "cell_type": "code",
      "metadata": {
        "id": "Jf2PrMkyDJ_D",
        "colab_type": "code",
        "colab": {
          "base_uri": "https://localhost:8080/",
          "height": 544
        },
        "outputId": "973a2a21-13b9-4c66-f09b-d53754d30192"
      },
      "source": [
        "myString = 'Hello World welcome to programming World'\n",
        "\n",
        "print(\"myString.capitalize()\")\n",
        "print(myString.capitalize())\n",
        "\n",
        "print(\"myString.casefold()\")\n",
        "print(myString.casefold())\n",
        "\n",
        "print(\"myString.center(1)\")\n",
        "print(myString.center(1))\n",
        "\n",
        "print(\"myString.count('l')\")\n",
        "print(myString.count('l'))\n",
        "\n",
        "print(\"myString.encode()\")\n",
        "print(myString.encode())\n",
        "\n",
        "print(\"myString.endswith('d')\")\n",
        "print(myString.endswith('d'))\n",
        "\n",
        "print(\"myString.expandtabs()\")\n",
        "print(myString.expandtabs())\n",
        "\n",
        "print(\"myString.find('a')\")\n",
        "print(myString.find('a'))\n",
        "\n",
        "print(\"myString.format()\")\n",
        "print(myString.format())\n",
        "\n",
        "a = {'x':'John', 'y':'Wick'} \n",
        "  \n",
        "print(\"{x}'s last name is {y}\".format_map(a)) \n",
        "\n",
        "print(\"myString.index('e')\")\n",
        "print(myString.index('e'))\n",
        "\n",
        "print(\"myString.isalnum()\")\n",
        "print(myString.isalnum())\n",
        "\n",
        "print(\"myString.isalpha()\")\n",
        "print(myString.isalpha())\n",
        "\n",
        "print(\"myString.rpartition('World')\")\n",
        "print(myString.rpartition('World'))\n",
        "\n",
        "print(\"myString.strip()\")\n",
        "print(myString.strip())\n",
        "\n",
        "print(\"myString.isidentifier()\")\n",
        "print(myString.isidentifier())"
      ],
      "execution_count": 23,
      "outputs": [
        {
          "output_type": "stream",
          "text": [
            "myString.capitalize()\n",
            "Hello world welcome to programming world\n",
            "myString.casefold()\n",
            "hello world welcome to programming world\n",
            "myString.center(1)\n",
            "Hello World welcome to programming World\n",
            "myString.count('l')\n",
            "5\n",
            "myString.encode()\n",
            "b'Hello World welcome to programming World'\n",
            "myString.endswith('d')\n",
            "True\n",
            "myString.expandtabs()\n",
            "Hello World welcome to programming World\n",
            "myString.find('a')\n",
            "28\n",
            "myString.format()\n",
            "Hello World welcome to programming World\n",
            "John's last name is Wick\n",
            "myString.index('e')\n",
            "1\n",
            "myString.isalnum()\n",
            "False\n",
            "myString.isalpha()\n",
            "False\n",
            "myString.rpartition('World')\n",
            "('Hello World welcome to programming ', 'World', '')\n",
            "myString.strip()\n",
            "Hello World welcome to programming World\n",
            "myString.isidentifier()\n",
            "False\n"
          ],
          "name": "stdout"
        }
      ]
    },
    {
      "cell_type": "markdown",
      "metadata": {
        "id": "d3VpacoK4MKi",
        "colab_type": "text"
      },
      "source": [
        "**Question 3:** Write a program to find if the given string is Palindrome or Anagram or None and print result accordingly."
      ]
    },
    {
      "cell_type": "code",
      "metadata": {
        "id": "-p3Oe4Jb4pRW",
        "colab_type": "code",
        "colab": {
          "base_uri": "https://localhost:8080/",
          "height": 51
        },
        "outputId": "916f47a0-f189-4fb9-ad4b-e6f701708435"
      },
      "source": [
        "s1 = \"listen\"\n",
        "s2 = \"silent\"\n",
        "\n",
        "def checkAnagaram(s1,s2):\n",
        "  if(sorted(s1) == sorted(s2)):\n",
        "    print(\"The Strings are Anagrams\")\n",
        "  else:\n",
        "    print(\"The Strings are not Anagrams\")\n",
        "\n",
        "checkAnagaram(s1,s2)\n",
        "\n",
        "s3 = \"malayalam\"\n",
        "def checkPlaindrome(s3):\n",
        "  if(s3 == s3[::-1]):\n",
        "    print(\"The string is Palindrome\")\n",
        "  else:\n",
        "    print(\"The string is not Plaindrome\")\n",
        "\n",
        "checkPlaindrome(s3)"
      ],
      "execution_count": 5,
      "outputs": [
        {
          "output_type": "stream",
          "text": [
            "The Strings are Anagrams\n",
            "The string is Palindrome\n"
          ],
          "name": "stdout"
        }
      ]
    },
    {
      "cell_type": "markdown",
      "metadata": {
        "id": "9s_IY_Fl2GXg",
        "colab_type": "text"
      },
      "source": [
        "**Question 4**: Write a python program to remove all additional characters from string and convert it to lower case using built in function lower(). ex: If string is \"**Dr. Darshan Ingle @AI-ML training**\" the output should be --> ***drdarshaningleaimltraining***"
      ]
    },
    {
      "cell_type": "code",
      "metadata": {
        "id": "ivh9Eu5d3NeV",
        "colab_type": "code",
        "colab": {
          "base_uri": "https://localhost:8080/",
          "height": 34
        },
        "outputId": "85a62c5e-14e0-40b1-e515-2b2b973a571a"
      },
      "source": [
        "stringvalue = \"Dr. Darshan Ingle @AI-ML training\"\n",
        "\n",
        "def removespecialchar(s1):\n",
        "  #stringvalue = re.sub(r\"\\s+\",\"\",stringvalue)\n",
        "  print((''.join(e for e in stringvalue if e.isalnum())).lower())\n",
        "\n",
        "removespecialchar(stringvalue)"
      ],
      "execution_count": 12,
      "outputs": [
        {
          "output_type": "stream",
          "text": [
            "drdarshaningleaimltraining\n"
          ],
          "name": "stdout"
        }
      ]
    }
  ]
}