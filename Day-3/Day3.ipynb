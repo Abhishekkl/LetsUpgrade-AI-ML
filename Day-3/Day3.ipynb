{
  "nbformat": 4,
  "nbformat_minor": 0,
  "metadata": {
    "colab": {
      "name": "Day3.ipynb",
      "provenance": []
    },
    "kernelspec": {
      "name": "python3",
      "display_name": "Python 3"
    }
  },
  "cells": [
    {
      "cell_type": "markdown",
      "metadata": {
        "id": "5t76XJX7Yw4k",
        "colab_type": "text"
      },
      "source": [
        "**Question 1** : Write a program to subtract two complex numbers in Python."
      ]
    },
    {
      "cell_type": "code",
      "metadata": {
        "id": "hszN55SzY13H",
        "colab_type": "code",
        "colab": {
          "base_uri": "https://localhost:8080/",
          "height": 34
        },
        "outputId": "aeca96a4-f50a-4cd5-f1d5-2d1c2b6aad02"
      },
      "source": [
        "complexnum1 = 2+8j\n",
        "complexnum2 = 3+4j\n",
        "result = complexnum1 + complexnum2\n",
        "print(result)"
      ],
      "execution_count": 21,
      "outputs": [
        {
          "output_type": "stream",
          "text": [
            "(5+12j)\n"
          ],
          "name": "stdout"
        }
      ]
    },
    {
      "cell_type": "markdown",
      "metadata": {
        "id": "gWmBe1Y_aXWY",
        "colab_type": "text"
      },
      "source": [
        "**Question 2** : Write a program to find the fourth root of a number"
      ]
    },
    {
      "cell_type": "code",
      "metadata": {
        "id": "a3i4pWxja93f",
        "colab_type": "code",
        "colab": {
          "base_uri": "https://localhost:8080/",
          "height": 34
        },
        "outputId": "76a2bc11-68d1-457f-8b83-1bffbdd61c93"
      },
      "source": [
        "num = 2525\n",
        "degree = 4\n",
        "result = num**(1/float(degree))\n",
        "print(result)"
      ],
      "execution_count": 35,
      "outputs": [
        {
          "output_type": "stream",
          "text": [
            "7.088679574194651\n"
          ],
          "name": "stdout"
        }
      ]
    },
    {
      "cell_type": "markdown",
      "metadata": {
        "id": "kwv2Wt5Se7v_",
        "colab_type": "text"
      },
      "source": [
        "**Question 3**: Write a program to swap two numbers in Python with the help of a temporary variable."
      ]
    },
    {
      "cell_type": "code",
      "metadata": {
        "id": "ux_dewa0fBVk",
        "colab_type": "code",
        "colab": {
          "base_uri": "https://localhost:8080/",
          "height": 136
        },
        "outputId": "371a20e3-9f34-49ca-ecff-3c4f0325ddd8"
      },
      "source": [
        "num1 = 10\n",
        "num2 = 30\n",
        "temp = num2\n",
        "\n",
        "print('Initial value of num1 => ',num1)\n",
        "print('Initial value of num2 => ',num2)\n",
        "\n",
        "num2 = num1\n",
        "num1 = temp\n",
        "\n",
        "print('\\n===========================\\n')\n",
        "print('After swap value of num1 => ',num1)\n",
        "print('After swap value of num2 => ',num2)"
      ],
      "execution_count": 42,
      "outputs": [
        {
          "output_type": "stream",
          "text": [
            "Initial value of num1 =>  10\n",
            "Initial value of num2 =>  30\n",
            "\n",
            "===========================\n",
            "\n",
            "After swap value of num1 =>  30\n",
            "After swap value of num2 =>  10\n"
          ],
          "name": "stdout"
        }
      ]
    },
    {
      "cell_type": "markdown",
      "metadata": {
        "id": "vevDWH9cggU7",
        "colab_type": "text"
      },
      "source": [
        "**Question 4**: Write a program to swap two numbers in Python without using a temporary variable."
      ]
    },
    {
      "cell_type": "code",
      "metadata": {
        "id": "VI2ZsaegglTt",
        "colab_type": "code",
        "colab": {
          "base_uri": "https://localhost:8080/",
          "height": 136
        },
        "outputId": "44d133d3-33b0-4adc-e3b0-28835dcc7c2d"
      },
      "source": [
        "num1 = 10\n",
        "num2 = 30\n",
        "\n",
        "print('Initial value of num1 => ',num1)\n",
        "print('Initial value of num2 => ',num2)\n",
        "\n",
        "num1 = num1 + num2\n",
        "num2 = num1 - num2\n",
        "num1 = num1 - num2\n",
        "\n",
        "print('\\n===========================\\n')\n",
        "print('After swap value of num1 => ',num1)\n",
        "print('After swap value of num2 => ',num2)"
      ],
      "execution_count": 43,
      "outputs": [
        {
          "output_type": "stream",
          "text": [
            "Initial value of num1 =>  10\n",
            "Initial value of num2 =>  30\n",
            "\n",
            "===========================\n",
            "\n",
            "After swap value of num1 =>  30\n",
            "After swap value of num2 =>  10\n"
          ],
          "name": "stdout"
        }
      ]
    },
    {
      "cell_type": "markdown",
      "metadata": {
        "id": "LsPlriwvhtoJ",
        "colab_type": "text"
      },
      "source": [
        "**Question 5**: Write a program to convert fahrenheit to kelvin and celsius both."
      ]
    },
    {
      "cell_type": "code",
      "metadata": {
        "id": "XdYapvtYh59T",
        "colab_type": "code",
        "colab": {
          "base_uri": "https://localhost:8080/",
          "height": 51
        },
        "outputId": "94483a7c-a397-4676-97a9-fcf1d17c09b3"
      },
      "source": [
        "fahrenheit = 42\n",
        "fahrenheitToKelvin = ((fahrenheit - 32) * 5/9 + 273.15)\n",
        "fahrenheitToCelsius = ((fahrenheit - 32) * 5/9)\n",
        "print('fahrenheit to Kelvin => ',fahrenheitToKelvin)\n",
        "print('fahrenheit to Celsius => ',fahrenheitToCelsius)"
      ],
      "execution_count": 58,
      "outputs": [
        {
          "output_type": "stream",
          "text": [
            "fahrenheit to Kelvin =>  278.7055555555555\n",
            "fahrenheit to Celsius =>  5.555555555555555\n"
          ],
          "name": "stdout"
        }
      ]
    },
    {
      "cell_type": "markdown",
      "metadata": {
        "id": "1NNxFfuYiIHz",
        "colab_type": "text"
      },
      "source": [
        "**Question 6**: Write a program to demonstrate all the available data types in Python."
      ]
    },
    {
      "cell_type": "code",
      "metadata": {
        "id": "yYr9TftCiyqM",
        "colab_type": "code",
        "colab": {
          "base_uri": "https://localhost:8080/",
          "height": 136
        },
        "outputId": "7075fe3b-1664-441c-8a0a-87bb585ce87e"
      },
      "source": [
        "stringVar = 'This is a string' #String\n",
        "numericVar = 10 #Integer\n",
        "numericFloatVar = 25.5 #Float\n",
        "complexNumber = 2 + 3j #Complex Number\n",
        "listVar = ['a','b','c']\n",
        "tupleVar = (1,2,3,4)\n",
        "dictionaryVar = {1:\"Apple\", 2:\"Mango\", 3:\"Orange\"}\n",
        "\n",
        "print('String Example',stringVariable, \"|\", type(stringVariable))\n",
        "print('Integer Example',numericVariable, \"|\",type(numericVariable))\n",
        "print('Float Example',numericFloatVariable, \"|\",type(numericFloatVariable))\n",
        "print('Complex Number Example',complexNumber, \"|\",type(complexNumber))\n",
        "print('List Example',listVariable, \"|\",type(listVariable))\n",
        "print('Tuple Example',tupleVariable, \"|\",type(tupleVariable))\n",
        "print('Dictionary Example',dictionaryVariable, \"|\",type(dictionaryVariable))"
      ],
      "execution_count": 48,
      "outputs": [
        {
          "output_type": "stream",
          "text": [
            "String Example This is a string | <class 'str'>\n",
            "Integer Example 10 | <class 'int'>\n",
            "Float Example 25.5 | <class 'float'>\n",
            "Complex Number Example (2+3j) | <class 'complex'>\n",
            "List Example ['a', 'b', 'c'] | <class 'list'>\n",
            "Tuple Example (1, 2, 3, 4) | <class 'tuple'>\n",
            "Dictionary Example {1: 'Monday', 2: 'Tuesday', 3: 'Wednesday', 4: 'Thursday'} | <class 'dict'>\n"
          ],
          "name": "stdout"
        }
      ]
    },
    {
      "cell_type": "markdown",
      "metadata": {
        "id": "rn08AdKJj1EC",
        "colab_type": "text"
      },
      "source": [
        "**Question 7**: Create a Markdown cell in jupyter and list the steps discussed in the session by Dr. Darshan Ingle sir to create Github profile and upload Githubs Assignment link."
      ]
    },
    {
      "cell_type": "markdown",
      "metadata": {
        "id": "tnpUnN8JkKSs",
        "colab_type": "text"
      },
      "source": [
        "# **Steps to create Github Profile**\n",
        "**Step 1**: Go to: [Github](https://github.com/join)\n",
        "\n",
        "**Step 2**: Click on Sign Up\n",
        "\n",
        "**Step 3**: Sign up by providing your credentials\n",
        "\n",
        "**Step 4**: Create repository and name it \"***LetsUpgrade AI-ML***\"\n",
        "\n",
        "**Step 5**: Ensure that your repository is made **public**\n",
        "\n",
        "**Step 6**: Upload your folder containing the day's assignment\n",
        "\n",
        "**Step 7**: Fill the google form provided by the LetsUpgrade Team"
      ]
    }
  ]
}