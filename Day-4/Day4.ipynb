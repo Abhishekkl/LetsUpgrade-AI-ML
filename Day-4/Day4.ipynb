{
  "nbformat": 4,
  "nbformat_minor": 0,
  "metadata": {
    "colab": {
      "name": "Day4.ipynb",
      "provenance": []
    },
    "kernelspec": {
      "name": "python3",
      "display_name": "Python 3"
    }
  },
  "cells": [
    {
      "cell_type": "markdown",
      "metadata": {
        "id": "mENEBY3wuZgk",
        "colab_type": "text"
      },
      "source": [
        "**Question 1** : Research on whether addition, subtraction, multiplication, division, floor division and modulo operations be performed on complex numbers. Based on your study, implement a Python program to demonstrate these operations."
      ]
    },
    {
      "cell_type": "code",
      "metadata": {
        "id": "uOhsCZlYue0E",
        "colab_type": "code",
        "colab": {
          "base_uri": "https://localhost:8080/",
          "height": 85
        },
        "outputId": "bf5e888c-64bb-482e-b724-8f6e3f488557"
      },
      "source": [
        "complexNum1 = 34 + 2j\n",
        "complexNum2 = 5 + 6j\n",
        "\n",
        "addition = complexNum1 + complexNum2\n",
        "print(addition)\n",
        "subtraction = complexNum1 - complexNum2\n",
        "print(subtraction)\n",
        "multiplication = complexNum1 * complexNum2\n",
        "print(multiplication)\n",
        "division = complexNum1 / complexNum2\n",
        "print(division)\n",
        "\n",
        "# modulo = complexNumber1 % complexNumber2\n",
        "# print(modulo) returns error since modulo is not supported in python 3.x"
      ],
      "execution_count": 2,
      "outputs": [
        {
          "output_type": "stream",
          "text": [
            "(39+8j)\n",
            "(29-4j)\n",
            "(158+214j)\n",
            "(2.983606557377049-3.180327868852459j)\n"
          ],
          "name": "stdout"
        }
      ]
    },
    {
      "cell_type": "markdown",
      "metadata": {
        "id": "NXA9nSWHvs8b",
        "colab_type": "text"
      },
      "source": [
        "**Question 2**: Research on range() functions and its parameters. Create a markdown cell and write in your own words (no copy-paste from google please) what you understand about it. Implement a small program of your choice on the same."
      ]
    },
    {
      "cell_type": "markdown",
      "metadata": {
        "id": "sKzmVWOYwF8X",
        "colab_type": "text"
      },
      "source": [
        "# **Range function**\n",
        "\n",
        "**Range function is used create a sequence of number, it starts from zero by default and gets incremented by 1**\n",
        "\n",
        "## Syntax\n",
        "***range(start, stop, step)***\n"
      ]
    },
    {
      "cell_type": "code",
      "metadata": {
        "id": "nzGzIBMcxNjr",
        "colab_type": "code",
        "colab": {
          "base_uri": "https://localhost:8080/",
          "height": 289
        },
        "outputId": "2a16d30e-92a3-40a8-c726-ebd6be350479"
      },
      "source": [
        "x = range(5)\n",
        "print('Default Range function',range(5))\n",
        "for n in x:\n",
        "  print(n)\n",
        "\n",
        "y = range(3, 20, 2)\n",
        "print('Printing Range function with steps of 2 from 3',range(5))\n",
        "for n in y:\n",
        "  print(n)"
      ],
      "execution_count": 4,
      "outputs": [
        {
          "output_type": "stream",
          "text": [
            "Default Range function range(0, 5)\n",
            "0\n",
            "1\n",
            "2\n",
            "3\n",
            "4\n",
            "Printing Range function with steps of 2 from 3 range(0, 5)\n",
            "3\n",
            "5\n",
            "7\n",
            "9\n",
            "11\n",
            "13\n",
            "15\n",
            "17\n",
            "19\n"
          ],
          "name": "stdout"
        }
      ]
    },
    {
      "cell_type": "markdown",
      "metadata": {
        "id": "T6ZPlx7ByFNx",
        "colab_type": "text"
      },
      "source": [
        "**Question 3**:\n",
        " Consider two numbers. Perform their subtraction and if the result of subtraction is greater than\n",
        "25, print their multiplication result else print their division result."
      ]
    },
    {
      "cell_type": "code",
      "metadata": {
        "id": "WWo3kBNFybzV",
        "colab_type": "code",
        "colab": {
          "base_uri": "https://localhost:8080/",
          "height": 85
        },
        "outputId": "b0ddff20-91b5-4a06-a4d5-e7ac4b3880fd"
      },
      "source": [
        "number1 = 128\n",
        "number2 = 200\n",
        "print('Subtraction of num')\n",
        "print(number2-number1)\n",
        "if((number2 - number1) > 25):\n",
        "  print('Multiplying the numbers')\n",
        "  print(number2 * number1)\n",
        "else:\n",
        "  print('Dividing the numbers')\n",
        "  print(number2 / number1)\n"
      ],
      "execution_count": 10,
      "outputs": [
        {
          "output_type": "stream",
          "text": [
            "Subtraction of num\n",
            "72\n",
            "Multiplying the numbers\n",
            "25600\n"
          ],
          "name": "stdout"
        }
      ]
    },
    {
      "cell_type": "markdown",
      "metadata": {
        "id": "sIvpfUHAzS9R",
        "colab_type": "text"
      },
      "source": [
        "**Question 4**: Consider a list of 10 elements of integer values. If the number in the list is divisible by 2, print the result as \"square of that number minus 2\"."
      ]
    },
    {
      "cell_type": "code",
      "metadata": {
        "id": "Uqd7tyt7zVgK",
        "colab_type": "code",
        "colab": {
          "base_uri": "https://localhost:8080/",
          "height": 102
        },
        "outputId": "0a0c438c-c8fb-4432-ab9e-fd3e5f55d626"
      },
      "source": [
        "myList = [1,2,3,4,5,6,7,8,9,10]\n",
        "for i in myList:\n",
        "  if(i%2 == 0):\n",
        "    print((i**2)-2)"
      ],
      "execution_count": 11,
      "outputs": [
        {
          "output_type": "stream",
          "text": [
            "2\n",
            "14\n",
            "34\n",
            "62\n",
            "98\n"
          ],
          "name": "stdout"
        }
      ]
    },
    {
      "cell_type": "markdown",
      "metadata": {
        "id": "AKaByJ7rzrTL",
        "colab_type": "text"
      },
      "source": [
        "**Question 5**: Consider a list of 10 elements. Print all the elements in the list which are greater than 7 when that number is divided 2."
      ]
    },
    {
      "cell_type": "code",
      "metadata": {
        "id": "lS4ucID4ztJj",
        "colab_type": "code",
        "colab": {
          "base_uri": "https://localhost:8080/",
          "height": 119
        },
        "outputId": "db676f31-b453-4f98-e231-b03b5228dca9"
      },
      "source": [
        "myList2 = [10,11,12,13,14,15,16,17,18,19,20]\n",
        "for i in myList2:\n",
        "  if((i/2) > 7):\n",
        "     print(i)"
      ],
      "execution_count": 14,
      "outputs": [
        {
          "output_type": "stream",
          "text": [
            "15\n",
            "16\n",
            "17\n",
            "18\n",
            "19\n",
            "20\n"
          ],
          "name": "stdout"
        }
      ]
    }
  ]
}